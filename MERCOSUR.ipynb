import cv2
import numpy as np
import os
import matplotlib.pyplot as plt

class UnionFind:
    def __init__(self):
        self.parent = {}
        self.rank = {}

    def make_set(self, x):
        self.parent[x] = x
        self.rank[x] = 0

    def find(self, x):
        if self.parent[x] != x:
            self.parent[x] = self.find(self.parent[x])
        return self.parent[x]

    def union(self, x, y):
        root_x = self.find(x)
        root_y = self.find(y)

        if root_x != root_y:
            if self.rank[root_x] > self.rank[root_y]:
                self.parent[root_y] = root_x
            else:
                self.parent[root_x] = root_y
                if self.rank[root_x] == self.rank[root_y]:
                    self.rank[root_y] += 1

def connected_components_labeling(img):

    uf = UnionFind()
    label = 0
    labels = np.zeros_like(img, dtype=int)

    # Primera pasada
    for i in range(img.shape[0]):
        for j in range(img.shape[1]):
            if img[i, j] == 255:  # Pixel blanco
                neighbors = []

                if i > 0 and img[i-1, j] == 255:
                    neighbors.append(labels[i-1, j])
                if j > 0 and img[i, j-1] == 255:
                    neighbors.append(labels[i, j-1])

                if not neighbors:
                    label += 1
                    uf.make_set(label)
                    labels[i, j] = label
                else:
                    min_label = min(neighbors)
                    labels[i, j] = min_label

                    for l in neighbors:
                        uf.union(min_label, l)

    # Segunda pasada
    for i in range(img.shape[0]):
        for j in range(img.shape[1]):
            if img[i, j] == 255:
                labels[i, j] = uf.find(labels[i, j])

    return labels, uf


image_folder = "image"
image_files = [f for f in os.listdir(image_folder) if f.endswith('.JPG')]

for image_file in image_files[:50]:  # Tomamos solo las primeras 50 imágenes
    image_path = os.path.join(image_folder, image_file)
    img = cv2.imread(image_path, cv2.IMREAD_GRAYSCALE)

    # Binarización adaptativa
    bin_img = cv2.adaptiveThreshold(img, 255, cv2.ADAPTIVE_THRESH_GAUSSIAN_C, cv2.THRESH_BINARY_INV, 11, 2)

    # Operaciones morfológicas
    kernel = np.ones((3,3), np.uint8)
    bin_img = cv2.morphologyEx(bin_img, cv2.MORPH_OPEN, kernel)
    bin_img = cv2.morphologyEx(bin_img, cv2.MORPH_CLOSE, kernel)

    # Etiquetado de componentes conectados
    labels, uf = connected_components_labeling(bin_img)

    # Colorear componentes
    output_img = np.zeros((img.shape[0], img.shape[1], 3), dtype=np.uint8)
    colors = {}
    for i in range(img.shape[0]):
        for j in range(img.shape[1]):
            if labels[i, j] not in colors:
                colors[labels[i, j]] = (np.random.randint(0, 255), np.random.randint(0, 255), np.random.randint(0, 255))
            output_img[i, j] = colors[labels[i, j]]

    # Mostrar resultados usando matplotlib
    plt.figure(figsize=(10, 5))
    plt.subplot(1, 2, 1)
    plt.imshow(img, cmap='gray')
    plt.title(f"Original {image_file}")
    
    plt.subplot(1, 2, 2)
    plt.imshow(cv2.cvtColor(output_img, cv2.COLOR_BGR2RGB))  # Convertir de BGR a RGB
    plt.title(f"Output {image_file}")
    
    plt.show()

    print(f"Image: {image_file}")
    print("Components:")
    for component, parent in uf.parent.items():
        print(f"Component {component} -> Parent {parent}")
